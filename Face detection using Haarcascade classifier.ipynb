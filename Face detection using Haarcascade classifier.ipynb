{
 "cells": [
  {
   "cell_type": "markdown",
   "metadata": {},
   "source": [
    "# Detecting faces from images"
   ]
  },
  {
   "cell_type": "code",
   "execution_count": 1,
   "metadata": {},
   "outputs": [
    {
     "data": {
      "text/plain": [
       "-1"
      ]
     },
     "execution_count": 1,
     "metadata": {},
     "output_type": "execute_result"
    }
   ],
   "source": [
    "import cv2\n",
    "\n",
    "#loading the pretrained classifier\n",
    "face_cascade=cv2.CascadeClassifier('haarcascade_frontalface_default.xml')\n",
    "\n",
    "#Reading the input image\n",
    "img=cv2.imread('1.jpg')\n",
    "\n",
    "# converting image into grayscale as haarcascade can detect omly from grayscale images\n",
    "gray=cv2.cvtColor(img,cv2.COLOR_BGR2GRAY)\n",
    "\n",
    "# Now we need to detecct faces in the image\n",
    "faces=face_cascade.detectMultiScale(gray,1.2,4) # here gray is input image,1.2 is scale factor, 4 is the number of neighbours\n",
    "\n",
    "# Drawing rectangle around the faces\n",
    "for (x,y,w,h) in faces:\n",
    "    cv2.rectangle(img,(x,y),(x+w,y+h),(255,0,0),3) # here img is the image where we need to draw the rectangle , Here x,y are the starting points of the rectangle and to get the end points we are adding width to x and height to  h and the 3rd parameter is the colour of the rectangle and the 4th parameter is the thickness of the rectangle.\n",
    "\n",
    "# Now we need to display the output of the image\n",
    "cv2.imshow('img',img)\n",
    "cv2.waitKey()"
   ]
  },
  {
   "cell_type": "markdown",
   "metadata": {},
   "source": [
    "# Detecting faces from videos"
   ]
  },
  {
   "cell_type": "code",
   "execution_count": 1,
   "metadata": {},
   "outputs": [],
   "source": [
    "import cv2\n",
    "\n",
    "#loading the pretrained classifier\n",
    "face_cascade=cv2.CascadeClassifier('haarcascade_frontalface_default.xml')\n",
    "\n",
    "#Reading the input image\n",
    "cap=cv2.VideoCapture(0)\n",
    "\n",
    "# to read a video file as input\n",
    "#cap=cv2.VideoCapture(lm.mp4)\n",
    "\n",
    "while True:\n",
    "    ret,im=cap.read() #to read each frame from the video\n",
    "\n",
    "    # converting image into grayscale as haarcascade can detect omly from grayscale images\n",
    "    gray=cv2.cvtColor(im,cv2.COLOR_BGR2GRAY)\n",
    "\n",
    "    # Now we need to detecct faces in the image\n",
    "    faces=face_cascade.detectMultiScale(gray,1.3,4) # here gray is input image,1.2 is scale factor, 4 is the number of neighbours\n",
    "\n",
    "    # Drawing rectangle around the faces\n",
    "    for (x,y,w,h) in faces:\n",
    "        cv2.rectangle(im,(x,y),(x+w,y+h),(255,0,0),3) # here img is the image where we need to draw the rectangle , Here x,y are the starting points of the rectangle and to get the end points we are adding width to x and height to  h and the 3rd parameter is the colour of the rectangle and the 4th parameter is the thickness of the rectangle.\n",
    "\n",
    "    # Now we need to display the output of the image\n",
    "    cv2.imshow('im',im)\n",
    "\n",
    "    # stop if escape key is pressed\n",
    "    k=cv2.waitKey(30) & 0xff\n",
    "    if k==27:\n",
    "        break\n",
    "# Release the videocaapture objecct\n",
    "cap.release()"
   ]
  },
  {
   "cell_type": "code",
   "execution_count": null,
   "metadata": {},
   "outputs": [],
   "source": []
  }
 ],
 "metadata": {
  "kernelspec": {
   "display_name": "Python 3",
   "language": "python",
   "name": "python3"
  },
  "language_info": {
   "codemirror_mode": {
    "name": "ipython",
    "version": 3
   },
   "file_extension": ".py",
   "mimetype": "text/x-python",
   "name": "python",
   "nbconvert_exporter": "python",
   "pygments_lexer": "ipython3",
   "version": "3.7.4"
  }
 },
 "nbformat": 4,
 "nbformat_minor": 2
}
